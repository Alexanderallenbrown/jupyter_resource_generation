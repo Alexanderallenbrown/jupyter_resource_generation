{
 "cells": [
  {
   "cell_type": "markdown",
   "metadata": {
    "toc": true
   },
   "source": [
    "<h1>Table of Contents<span class=\"tocSkip\"></span></h1>\n",
    "<div class=\"toc\"><ul class=\"toc-item\"><li><span><a href=\"#Topic-1\" data-toc-modified-id=\"Topic-1-1\"><span class=\"toc-item-num\">1&nbsp;&nbsp;</span>Topic 1</a></span></li><li><span><a href=\"#Topic-2\" data-toc-modified-id=\"Topic-2-2\"><span class=\"toc-item-num\">2&nbsp;&nbsp;</span>Topic 2</a></span></li></ul></div>"
   ]
  },
  {
   "cell_type": "markdown",
   "metadata": {},
   "source": [
    "# Topic 1"
   ]
  },
  {
   "cell_type": "markdown",
   "metadata": {
    "resourcetopic": 1
   },
   "source": [
    "Here is the first stuff from topic one\n",
    "* 1\n",
    "* 2\n",
    "* 3"
   ]
  },
  {
   "cell_type": "markdown",
   "metadata": {},
   "source": [
    "# Topic 2"
   ]
  },
  {
   "cell_type": "markdown",
   "metadata": {
    "resourcetopic": 2
   },
   "source": [
    "Here is the first stuff from topic 2\n",
    "* a\n",
    "* b\n",
    "* c"
   ]
  },
  {
   "cell_type": "code",
   "execution_count": null,
   "metadata": {},
   "outputs": [],
   "source": []
  }
 ],
 "metadata": {
  "celltoolbar": "Edit Metadata",
  "kernelspec": {
   "display_name": "Octave",
   "language": "octave",
   "name": "octave"
  },
  "language_info": {
   "file_extension": ".m",
   "help_links": [
    {
     "text": "GNU Octave",
     "url": "https://www.gnu.org/software/octave/support.html"
    },
    {
     "text": "Octave Kernel",
     "url": "https://github.com/Calysto/octave_kernel"
    },
    {
     "text": "MetaKernel Magics",
     "url": "https://metakernel.readthedocs.io/en/latest/source/README.html"
    }
   ],
   "mimetype": "text/x-octave",
   "name": "octave",
   "version": "5.1.0"
  },
  "toc": {
   "base_numbering": 1,
   "nav_menu": {},
   "number_sections": true,
   "sideBar": true,
   "skip_h1_title": false,
   "title_cell": "Table of Contents",
   "title_sidebar": "Contents",
   "toc_cell": true,
   "toc_position": {},
   "toc_section_display": true,
   "toc_window_display": false
  }
 },
 "nbformat": 4,
 "nbformat_minor": 2
}
